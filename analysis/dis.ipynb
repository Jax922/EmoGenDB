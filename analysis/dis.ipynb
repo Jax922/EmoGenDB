{
 "cells": [
  {
   "cell_type": "markdown",
   "metadata": {},
   "source": [
    "# 基本的数据分布"
   ]
  },
  {
   "cell_type": "code",
   "execution_count": 1,
   "metadata": {},
   "outputs": [],
   "source": [
    "import pandas as pd\n",
    "import numpy as np\n",
    "import matplotlib.pyplot as plt\n",
    "import seaborn as sns"
   ]
  },
  {
   "cell_type": "code",
   "execution_count": 2,
   "metadata": {},
   "outputs": [],
   "source": [
    "# 文件\n",
    "\n",
    "all2 =\"/home/pci/dong/emodb/dong/EmoGenDB/all_cleaned_5k_2.csv\"\n",
    "all1 = \"/home/pci/dong/emodb/dong/EmoGenDB/all_cleaned_5k_1.csv\"\n"
   ]
  },
  {
   "cell_type": "code",
   "execution_count": 3,
   "metadata": {},
   "outputs": [],
   "source": [
    "# 读取数据\n",
    "all1_df = pd.read_csv(all1)\n",
    "all2_df = pd.read_csv(all2)\n",
    "emotion_cat = [\"Amusement\", \"Anger\", \"Awe\", \"Contentment\", \"Disgust\", \"Excitement\", \"Fear\", \"Sad\"]\n",
    "\n",
    "# 确保只保留 emotion_cat 中的类别\n",
    "all1_df_filtered = all1_df[all1_df['Emotion_Categorical'].isin(emotion_cat)]\n",
    "all1_df_filtered['Emotion_Categorical'] = pd.Categorical(\n",
    "    all1_df_filtered['Emotion_Categorical'], categories=emotion_cat, ordered=True\n",
    ")\n",
    "\n",
    "all2_df_filtered = all2_df[all2_df['Emotion_Categorical'].isin(emotion_cat)]\n",
    "all2_df_filtered['Emotion_Categorical'] = pd.Categorical(\n",
    "    all2_df_filtered['Emotion_Categorical'], categories=emotion_cat, ordered=True\n",
    ")\n",
    "\n",
    "\n",
    "\n"
   ]
  },
  {
   "cell_type": "code",
   "execution_count": 4,
   "metadata": {},
   "outputs": [
    {
     "name": "stdout",
     "output_type": "stream",
     "text": [
      "\n",
      "MJ all1 情绪分布：\n",
      "Emotion_Categorical\n",
      "Amusement      625\n",
      "Anger          625\n",
      "Awe            625\n",
      "Contentment    625\n",
      "Disgust        625\n",
      "Excitement     625\n",
      "Fear           625\n",
      "Sad            625\n",
      "Name: count, dtype: int64\n",
      "\n",
      "MJ all2 情绪分布：\n",
      "Emotion_Categorical\n",
      "Amusement      625\n",
      "Anger          625\n",
      "Awe            625\n",
      "Contentment    625\n",
      "Disgust        625\n",
      "Excitement     625\n",
      "Fear           625\n",
      "Sad            625\n",
      "Name: count, dtype: int64\n"
     ]
    }
   ],
   "source": [
    "\n",
    "# jounerydb_counts = jounerydb_filtered['Emotion_Categorical'].value_counts(sort=False)\n",
    "all1_counts = all1_df_filtered['Emotion_Categorical'].value_counts(sort=False)\n",
    "all2_counts = all2_df_filtered['Emotion_Categorical'].value_counts(sort=False)\n",
    "# 打印具体的数字\n",
    "# print(\"JouneryDB 情绪分布：\")\n",
    "# print(jounerydb_counts)\n",
    "\n",
    "print(\"\\nMJ all1 情绪分布：\")\n",
    "print(all1_counts)\n",
    "\n",
    "print(\"\\nMJ all2 情绪分布：\")\n",
    "print(all2_counts)\n",
    "\n"
   ]
  },
  {
   "cell_type": "code",
   "execution_count": 3,
   "metadata": {},
   "outputs": [
    {
     "name": "stdout",
     "output_type": "stream",
     "text": [
      "Emotion_Categorical\n",
      "Contentment    25\n",
      "Amusement      25\n",
      "Anger          25\n",
      "Fear           25\n",
      "Excitement     25\n",
      "Disgust        25\n",
      "Awe            25\n",
      "Sad            25\n",
      "Name: count, dtype: int64\n"
     ]
    }
   ],
   "source": [
    "file_path = \"/home/pci/dong/emodb/dong/AIGC-image/jouneryDB/all_cleaned_balanced25.csv\"\n",
    "df = pd.read_csv(file_path)\n",
    "print(df['Emotion_Categorical'].value_counts())"
   ]
  }
 ],
 "metadata": {
  "kernelspec": {
   "display_name": "base",
   "language": "python",
   "name": "python3"
  },
  "language_info": {
   "codemirror_mode": {
    "name": "ipython",
    "version": 3
   },
   "file_extension": ".py",
   "mimetype": "text/x-python",
   "name": "python",
   "nbconvert_exporter": "python",
   "pygments_lexer": "ipython3",
   "version": "3.12.4"
  }
 },
 "nbformat": 4,
 "nbformat_minor": 2
}
